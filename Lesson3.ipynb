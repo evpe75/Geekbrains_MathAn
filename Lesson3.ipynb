{
 "cells": [
  {
   "cell_type": "markdown",
   "metadata": {},
   "source": [
    "## Тема “Множество. Последовательность.Часть 2” ##"
   ]
  },
  {
   "cell_type": "markdown",
   "metadata": {},
   "source": [
    "### Task1 ###"
   ]
  },
  {
   "cell_type": "raw",
   "metadata": {},
   "source": [
    "Элементами последовательности являются элементы из определенного множества значенний, но в отличии от множеств для элемента последовательности важна его позиция или номер в последовательности, а также элементы последовательности могут повторяться"
   ]
  }
 ],
 "metadata": {
  "kernelspec": {
   "display_name": "Python 3",
   "language": "python",
   "name": "python3"
  },
  "language_info": {
   "codemirror_mode": {
    "name": "ipython",
    "version": 3
   },
   "file_extension": ".py",
   "mimetype": "text/x-python",
   "name": "python",
   "nbconvert_exporter": "python",
   "pygments_lexer": "ipython3",
   "version": "3.8.5"
  }
 },
 "nbformat": 4,
 "nbformat_minor": 4
}
