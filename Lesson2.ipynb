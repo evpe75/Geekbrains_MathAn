{
 "cells": [
  {
   "cell_type": "markdown",
   "metadata": {},
   "source": [
    "## Тема “Множество. Последовательность.Часть 1” ##"
   ]
  },
  {
   "cell_type": "markdown",
   "metadata": {},
   "source": [
    "### Task1 ###"
   ]
  },
  {
   "cell_type": "raw",
   "metadata": {},
   "source": [
    "1. Для любого y принадлежащего к диапазону >= 0 и <=1 функция sgn(y) = 1 - это Истина\n",
    "2. Для любого натурального числа n > 2 существуют такие натуральные числа x, y, z, для которых выполняется условие x и степени n = у в степени n + z в степени n - думаю что это Ложь, хотя не уверен\n",
    "3. Для любого вещественного числа x существует множество вещественных чисел, которые больше x - Истина\n",
    "4. Для любого комплексного числа x не существует комплексное число y, для которого x > y или x < y - Ложь\n",
    "5. Для любого y >= 0 и y <= Pi/2 существует e > 0, для которого sin(y) < sin(y+e) - Ложь\n",
    "6. Для любого y >= 0 и y < Pi существует e > 0, для которого cos(y) > cos(y+e) - Ложь \n",
    "7. Существует число x, которое не принадлежит ни к натуральным, ни к целым, ни к рациональным, ни к вещественным, ни к комплексным числам - Ложь"
   ]
  },
  {
   "cell_type": "markdown",
   "metadata": {},
   "source": [
    "## Тема “Множество” ##"
   ]
  },
  {
   "cell_type": "markdown",
   "metadata": {},
   "source": [
    "### Task2 ###"
   ]
  },
  {
   "cell_type": "code",
   "execution_count": 2,
   "metadata": {},
   "outputs": [
    {
     "name": "stdout",
     "output_type": "stream",
     "text": [
      "{1, 2, 3, 4, 5, 'тридцать', 6, 7, 8, 'десять', 'двадцать'}\n"
     ]
    }
   ],
   "source": [
    "#Объединенние\n",
    "A = {1, 2, 3, 4, 5, \"десять\", \"двадцать\"}\n",
    "B = {4, 5, 6, 7, 8, \"десять\", \"тридцать\"}\n",
    "\n",
    "A = A.union(B)\n",
    "print(A)"
   ]
  },
  {
   "cell_type": "code",
   "execution_count": 3,
   "metadata": {},
   "outputs": [
    {
     "name": "stdout",
     "output_type": "stream",
     "text": [
      "{'десять', 4, 5}\n"
     ]
    }
   ],
   "source": [
    "#Пересечение\n",
    "A = {1, 2, 3, 4, 5, \"десять\", \"двадцать\"}\n",
    "B = {4, 5, 6, 7, 8, \"десять\", \"тридцать\"}\n",
    "\n",
    "A = A.intersection(B)\n",
    "print(A)"
   ]
  },
  {
   "cell_type": "code",
   "execution_count": 5,
   "metadata": {},
   "outputs": [
    {
     "name": "stdout",
     "output_type": "stream",
     "text": [
      "{1, 2, 3, 'двадцать'}\n",
      "{8, 'тридцать', 6, 7}\n"
     ]
    }
   ],
   "source": [
    "#Разность\n",
    "A = {1, 2, 3, 4, 5, \"десять\", \"двадцать\"}\n",
    "B = {4, 5, 6, 7, 8, \"десять\", \"тридцать\"}\n",
    "\n",
    "A_d = A.difference(B)\n",
    "print(A_d)\n",
    "B_d = B.difference(A)\n",
    "print(B_d)"
   ]
  },
  {
   "cell_type": "code",
   "execution_count": 7,
   "metadata": {},
   "outputs": [
    {
     "name": "stdout",
     "output_type": "stream",
     "text": [
      "{1, 2, 'тридцать', 6, 7, 8, 3, 'двадцать'}\n"
     ]
    }
   ],
   "source": [
    "#Симметричная разность\n",
    "A = {1, 2, 3, 4, 5, \"десять\", \"двадцать\"}\n",
    "B = {4, 5, 6, 7, 8, \"десять\", \"тридцать\"}\n",
    "\n",
    "A_d = A.symmetric_difference(B)\n",
    "print(A_d)"
   ]
  }
 ],
 "metadata": {
  "kernelspec": {
   "display_name": "Python 3",
   "language": "python",
   "name": "python3"
  },
  "language_info": {
   "codemirror_mode": {
    "name": "ipython",
    "version": 3
   },
   "file_extension": ".py",
   "mimetype": "text/x-python",
   "name": "python",
   "nbconvert_exporter": "python",
   "pygments_lexer": "ipython3",
   "version": "3.8.5"
  }
 },
 "nbformat": 4,
 "nbformat_minor": 4
}
